{
  "cells": [
    {
      "cell_type": "markdown",
      "metadata": {
        "id": "view-in-github",
        "colab_type": "text"
      },
      "source": [
        "<a href=\"https://colab.research.google.com/github/konatax/bookmanager/blob/main/keras_%E4%B9%B3%E8%85%BA%E7%99%8C%E8%AF%86%E5%88%AB.ipynb\" target=\"_parent\"><img src=\"https://colab.research.google.com/assets/colab-badge.svg\" alt=\"Open In Colab\"/></a>"
      ]
    },
    {
      "cell_type": "code",
      "execution_count": 14,
      "id": "5233fb97",
      "metadata": {
        "colab": {
          "base_uri": "https://localhost:8080/"
        },
        "id": "5233fb97",
        "outputId": "9467e6d2-bafc-4aaa-ed88-242384296ebe"
      },
      "outputs": [
        {
          "output_type": "stream",
          "name": "stdout",
          "text": [
            "Requirement already satisfied: tensorflow in /usr/local/lib/python3.7/dist-packages (2.8.0)\n",
            "Requirement already satisfied: tf-estimator-nightly==2.8.0.dev2021122109 in /usr/local/lib/python3.7/dist-packages (from tensorflow) (2.8.0.dev2021122109)\n",
            "Requirement already satisfied: setuptools in /usr/local/lib/python3.7/dist-packages (from tensorflow) (57.4.0)\n",
            "Requirement already satisfied: astunparse>=1.6.0 in /usr/local/lib/python3.7/dist-packages (from tensorflow) (1.6.3)\n",
            "Requirement already satisfied: protobuf>=3.9.2 in /usr/local/lib/python3.7/dist-packages (from tensorflow) (3.17.3)\n",
            "Requirement already satisfied: wrapt>=1.11.0 in /usr/local/lib/python3.7/dist-packages (from tensorflow) (1.14.0)\n",
            "Requirement already satisfied: gast>=0.2.1 in /usr/local/lib/python3.7/dist-packages (from tensorflow) (0.5.3)\n",
            "Requirement already satisfied: tensorboard<2.9,>=2.8 in /usr/local/lib/python3.7/dist-packages (from tensorflow) (2.8.0)\n",
            "Requirement already satisfied: keras-preprocessing>=1.1.1 in /usr/local/lib/python3.7/dist-packages (from tensorflow) (1.1.2)\n",
            "Requirement already satisfied: h5py>=2.9.0 in /usr/local/lib/python3.7/dist-packages (from tensorflow) (3.1.0)\n",
            "Requirement already satisfied: opt-einsum>=2.3.2 in /usr/local/lib/python3.7/dist-packages (from tensorflow) (3.3.0)\n",
            "Requirement already satisfied: typing-extensions>=3.6.6 in /usr/local/lib/python3.7/dist-packages (from tensorflow) (4.2.0)\n",
            "Requirement already satisfied: numpy>=1.20 in /usr/local/lib/python3.7/dist-packages (from tensorflow) (1.21.6)\n",
            "Requirement already satisfied: six>=1.12.0 in /usr/local/lib/python3.7/dist-packages (from tensorflow) (1.15.0)\n",
            "Requirement already satisfied: keras<2.9,>=2.8.0rc0 in /usr/local/lib/python3.7/dist-packages (from tensorflow) (2.8.0)\n",
            "Requirement already satisfied: libclang>=9.0.1 in /usr/local/lib/python3.7/dist-packages (from tensorflow) (14.0.1)\n",
            "Requirement already satisfied: grpcio<2.0,>=1.24.3 in /usr/local/lib/python3.7/dist-packages (from tensorflow) (1.44.0)\n",
            "Requirement already satisfied: termcolor>=1.1.0 in /usr/local/lib/python3.7/dist-packages (from tensorflow) (1.1.0)\n",
            "Requirement already satisfied: google-pasta>=0.1.1 in /usr/local/lib/python3.7/dist-packages (from tensorflow) (0.2.0)\n",
            "Requirement already satisfied: flatbuffers>=1.12 in /usr/local/lib/python3.7/dist-packages (from tensorflow) (2.0)\n",
            "Requirement already satisfied: tensorflow-io-gcs-filesystem>=0.23.1 in /usr/local/lib/python3.7/dist-packages (from tensorflow) (0.25.0)\n",
            "Requirement already satisfied: absl-py>=0.4.0 in /usr/local/lib/python3.7/dist-packages (from tensorflow) (1.0.0)\n",
            "Requirement already satisfied: wheel<1.0,>=0.23.0 in /usr/local/lib/python3.7/dist-packages (from astunparse>=1.6.0->tensorflow) (0.37.1)\n",
            "Requirement already satisfied: cached-property in /usr/local/lib/python3.7/dist-packages (from h5py>=2.9.0->tensorflow) (1.5.2)\n",
            "Requirement already satisfied: tensorboard-plugin-wit>=1.6.0 in /usr/local/lib/python3.7/dist-packages (from tensorboard<2.9,>=2.8->tensorflow) (1.8.1)\n",
            "Requirement already satisfied: google-auth<3,>=1.6.3 in /usr/local/lib/python3.7/dist-packages (from tensorboard<2.9,>=2.8->tensorflow) (1.35.0)\n",
            "Requirement already satisfied: tensorboard-data-server<0.7.0,>=0.6.0 in /usr/local/lib/python3.7/dist-packages (from tensorboard<2.9,>=2.8->tensorflow) (0.6.1)\n",
            "Requirement already satisfied: requests<3,>=2.21.0 in /usr/local/lib/python3.7/dist-packages (from tensorboard<2.9,>=2.8->tensorflow) (2.23.0)\n",
            "Requirement already satisfied: google-auth-oauthlib<0.5,>=0.4.1 in /usr/local/lib/python3.7/dist-packages (from tensorboard<2.9,>=2.8->tensorflow) (0.4.6)\n",
            "Requirement already satisfied: markdown>=2.6.8 in /usr/local/lib/python3.7/dist-packages (from tensorboard<2.9,>=2.8->tensorflow) (3.3.6)\n",
            "Requirement already satisfied: werkzeug>=0.11.15 in /usr/local/lib/python3.7/dist-packages (from tensorboard<2.9,>=2.8->tensorflow) (1.0.1)\n",
            "Requirement already satisfied: pyasn1-modules>=0.2.1 in /usr/local/lib/python3.7/dist-packages (from google-auth<3,>=1.6.3->tensorboard<2.9,>=2.8->tensorflow) (0.2.8)\n",
            "Requirement already satisfied: rsa<5,>=3.1.4 in /usr/local/lib/python3.7/dist-packages (from google-auth<3,>=1.6.3->tensorboard<2.9,>=2.8->tensorflow) (4.8)\n",
            "Requirement already satisfied: cachetools<5.0,>=2.0.0 in /usr/local/lib/python3.7/dist-packages (from google-auth<3,>=1.6.3->tensorboard<2.9,>=2.8->tensorflow) (4.2.4)\n",
            "Requirement already satisfied: requests-oauthlib>=0.7.0 in /usr/local/lib/python3.7/dist-packages (from google-auth-oauthlib<0.5,>=0.4.1->tensorboard<2.9,>=2.8->tensorflow) (1.3.1)\n",
            "Requirement already satisfied: importlib-metadata>=4.4 in /usr/local/lib/python3.7/dist-packages (from markdown>=2.6.8->tensorboard<2.9,>=2.8->tensorflow) (4.11.3)\n",
            "Requirement already satisfied: zipp>=0.5 in /usr/local/lib/python3.7/dist-packages (from importlib-metadata>=4.4->markdown>=2.6.8->tensorboard<2.9,>=2.8->tensorflow) (3.8.0)\n",
            "Requirement already satisfied: pyasn1<0.5.0,>=0.4.6 in /usr/local/lib/python3.7/dist-packages (from pyasn1-modules>=0.2.1->google-auth<3,>=1.6.3->tensorboard<2.9,>=2.8->tensorflow) (0.4.8)\n",
            "Requirement already satisfied: urllib3!=1.25.0,!=1.25.1,<1.26,>=1.21.1 in /usr/local/lib/python3.7/dist-packages (from requests<3,>=2.21.0->tensorboard<2.9,>=2.8->tensorflow) (1.24.3)\n",
            "Requirement already satisfied: chardet<4,>=3.0.2 in /usr/local/lib/python3.7/dist-packages (from requests<3,>=2.21.0->tensorboard<2.9,>=2.8->tensorflow) (3.0.4)\n",
            "Requirement already satisfied: idna<3,>=2.5 in /usr/local/lib/python3.7/dist-packages (from requests<3,>=2.21.0->tensorboard<2.9,>=2.8->tensorflow) (2.10)\n",
            "Requirement already satisfied: certifi>=2017.4.17 in /usr/local/lib/python3.7/dist-packages (from requests<3,>=2.21.0->tensorboard<2.9,>=2.8->tensorflow) (2021.10.8)\n",
            "Requirement already satisfied: oauthlib>=3.0.0 in /usr/local/lib/python3.7/dist-packages (from requests-oauthlib>=0.7.0->google-auth-oauthlib<0.5,>=0.4.1->tensorboard<2.9,>=2.8->tensorflow) (3.2.0)\n"
          ]
        }
      ],
      "source": [
        "! pip install tensorflow"
      ]
    },
    {
      "cell_type": "code",
      "source": [
        "#将谷歌云盘挂载到远程主机（GPU）\n",
        "from google.colab import drive\n",
        "drive.mount('/content/gdrive')"
      ],
      "metadata": {
        "id": "WLV5vHtJn360"
      },
      "id": "WLV5vHtJn360",
      "execution_count": null,
      "outputs": []
    },
    {
      "cell_type": "code",
      "source": [
        "import os\n",
        "os.chdir(\"/content/gdrive/My Drive/Colab Notebooks/fine_turn/keras-cancer\")\n",
        "#这一步之后可直接运行py文件\n",
        "#! python example.py"
      ],
      "metadata": {
        "id": "hMtDXxFZn9Ks"
      },
      "id": "hMtDXxFZn9Ks",
      "execution_count": null,
      "outputs": []
    },
    {
      "cell_type": "code",
      "source": [
        "!nvidia-smi"
      ],
      "metadata": {
        "id": "c89anXd3oDHc"
      },
      "id": "c89anXd3oDHc",
      "execution_count": null,
      "outputs": []
    },
    {
      "cell_type": "code",
      "source": [
        "from tensorflow.keras.applications import VGG16\n",
        "from keras.applications import imagenet_utils\n",
        "from keras.applications.inception_v3 import preprocess_input\n",
        "from keras.preprocessing.image import img_to_array\n",
        "from keras.preprocessing.image import load_img\n",
        "import numpy as np\n",
        "from keras.layers import Dense,Dropout,Flatten\n",
        "from keras.models import *\n",
        "from tensorflow.keras.preprocessing.image import ImageDataGenerator"
      ],
      "metadata": {
        "colab": {
          "base_uri": "https://localhost:8080/"
        },
        "id": "yeTFJkVHkDrV",
        "outputId": "cd56261c-b78e-484a-c711-d69a2e1fe748"
      },
      "id": "yeTFJkVHkDrV",
      "execution_count": 22,
      "outputs": [
        {
          "output_type": "stream",
          "name": "stdout",
          "text": [
            "Drive already mounted at /content/gdrive; to attempt to forcibly remount, call drive.mount(\"/content/gdrive\", force_remount=True).\n"
          ]
        }
      ]
    },
    {
      "cell_type": "code",
      "source": [
        "def cal_recall_right(result,label):#result是每个测试样本[y_pred,label],label是0或1\n",
        "  num = 1*sum([1 for [s1,s2] in result if s1 == s2 and s2 == label])\n",
        "  #用于计算准确率 \n",
        "  num1 = sum([1 for [s1,s2] in result if s1 == label])\n",
        "  #用于计算召回率\n",
        "  num2 = sum([1 for [s1,s2] in result if s2 == label])\n",
        "\n",
        "  if num == 0:\n",
        "    return 0,0\n",
        "  return num/num1,num/num2"
      ],
      "metadata": {
        "id": "_M_bbcZrZwKm"
      },
      "id": "_M_bbcZrZwKm",
      "execution_count": 45,
      "outputs": []
    },
    {
      "cell_type": "code",
      "source": [
        "#分批读取数据 rescale=1./255 表示图像每个像素值除以255 归一化，防止数据溢出\n",
        "image_generator = ImageDataGenerator(rescale=1./255)\n",
        "im_height, im_width = 224, 224\n",
        "#构建vgg16模型（迁移学习），使用别人训练好的参数\n",
        "model_vgg16 = VGG16(weights='imagenet')\n",
        "#打印各层参数情况\n",
        "print(model_vgg16.summary())"
      ],
      "metadata": {
        "colab": {
          "base_uri": "https://localhost:8080/"
        },
        "id": "sSYih5tGj1xA",
        "outputId": "50ff9d60-a2e1-48f4-e4dc-f20bcd254667"
      },
      "id": "sSYih5tGj1xA",
      "execution_count": 24,
      "outputs": [
        {
          "output_type": "stream",
          "name": "stdout",
          "text": [
            "Downloading data from https://storage.googleapis.com/tensorflow/keras-applications/vgg16/vgg16_weights_tf_dim_ordering_tf_kernels.h5\n",
            "553467904/553467096 [==============================] - 19s 0us/step\n",
            "553476096/553467096 [==============================] - 19s 0us/step\n",
            "Model: \"vgg16\"\n",
            "_________________________________________________________________\n",
            " Layer (type)                Output Shape              Param #   \n",
            "=================================================================\n",
            " input_1 (InputLayer)        [(None, 224, 224, 3)]     0         \n",
            "                                                                 \n",
            " block1_conv1 (Conv2D)       (None, 224, 224, 64)      1792      \n",
            "                                                                 \n",
            " block1_conv2 (Conv2D)       (None, 224, 224, 64)      36928     \n",
            "                                                                 \n",
            " block1_pool (MaxPooling2D)  (None, 112, 112, 64)      0         \n",
            "                                                                 \n",
            " block2_conv1 (Conv2D)       (None, 112, 112, 128)     73856     \n",
            "                                                                 \n",
            " block2_conv2 (Conv2D)       (None, 112, 112, 128)     147584    \n",
            "                                                                 \n",
            " block2_pool (MaxPooling2D)  (None, 56, 56, 128)       0         \n",
            "                                                                 \n",
            " block3_conv1 (Conv2D)       (None, 56, 56, 256)       295168    \n",
            "                                                                 \n",
            " block3_conv2 (Conv2D)       (None, 56, 56, 256)       590080    \n",
            "                                                                 \n",
            " block3_conv3 (Conv2D)       (None, 56, 56, 256)       590080    \n",
            "                                                                 \n",
            " block3_pool (MaxPooling2D)  (None, 28, 28, 256)       0         \n",
            "                                                                 \n",
            " block4_conv1 (Conv2D)       (None, 28, 28, 512)       1180160   \n",
            "                                                                 \n",
            " block4_conv2 (Conv2D)       (None, 28, 28, 512)       2359808   \n",
            "                                                                 \n",
            " block4_conv3 (Conv2D)       (None, 28, 28, 512)       2359808   \n",
            "                                                                 \n",
            " block4_pool (MaxPooling2D)  (None, 14, 14, 512)       0         \n",
            "                                                                 \n",
            " block5_conv1 (Conv2D)       (None, 14, 14, 512)       2359808   \n",
            "                                                                 \n",
            " block5_conv2 (Conv2D)       (None, 14, 14, 512)       2359808   \n",
            "                                                                 \n",
            " block5_conv3 (Conv2D)       (None, 14, 14, 512)       2359808   \n",
            "                                                                 \n",
            " block5_pool (MaxPooling2D)  (None, 7, 7, 512)         0         \n",
            "                                                                 \n",
            " flatten (Flatten)           (None, 25088)             0         \n",
            "                                                                 \n",
            " fc1 (Dense)                 (None, 4096)              102764544 \n",
            "                                                                 \n",
            " fc2 (Dense)                 (None, 4096)              16781312  \n",
            "                                                                 \n",
            " predictions (Dense)         (None, 1000)              4097000   \n",
            "                                                                 \n",
            "=================================================================\n",
            "Total params: 138,357,544\n",
            "Trainable params: 138,357,544\n",
            "Non-trainable params: 0\n",
            "_________________________________________________________________\n",
            "None\n"
          ]
        }
      ]
    },
    {
      "cell_type": "code",
      "source": [
        "#VGG16模型最后五层不用（只用前面几层现有的参数）\n",
        "out = model_vgg16.layers[-5].output\n",
        "#后面自己设置（是还未训练的）\n",
        "out = Flatten()(out)\n",
        "#全连接神经网络\n",
        "out = Dense(100, activation='relu')(out)\n",
        "#用来防止模型过拟合\n",
        "out = Dropout(0.1)(out)\n",
        "out = Dense(50, activation='relu')(out)\n",
        "out = Dropout(0.1)(out)\n",
        "#输出概率\n",
        "out = Dense(1,activation='sigmoid')(out)\n",
        "tuneModel = Model(inputs=model_vgg16.input,outputs=out)\n",
        "for layer in tuneModel.layers[:-5]:\n",
        "  #该层不进行训练\n",
        "  layer.trainable = False\n",
        "print(tuneModel.summary())"
      ],
      "metadata": {
        "colab": {
          "base_uri": "https://localhost:8080/"
        },
        "id": "Myu-ty-mlz0U",
        "outputId": "c29cffbc-f81b-4e00-ea12-59ae3894227b"
      },
      "id": "Myu-ty-mlz0U",
      "execution_count": 25,
      "outputs": [
        {
          "output_type": "stream",
          "name": "stdout",
          "text": [
            "Model: \"model\"\n",
            "_________________________________________________________________\n",
            " Layer (type)                Output Shape              Param #   \n",
            "=================================================================\n",
            " input_1 (InputLayer)        [(None, 224, 224, 3)]     0         \n",
            "                                                                 \n",
            " block1_conv1 (Conv2D)       (None, 224, 224, 64)      1792      \n",
            "                                                                 \n",
            " block1_conv2 (Conv2D)       (None, 224, 224, 64)      36928     \n",
            "                                                                 \n",
            " block1_pool (MaxPooling2D)  (None, 112, 112, 64)      0         \n",
            "                                                                 \n",
            " block2_conv1 (Conv2D)       (None, 112, 112, 128)     73856     \n",
            "                                                                 \n",
            " block2_conv2 (Conv2D)       (None, 112, 112, 128)     147584    \n",
            "                                                                 \n",
            " block2_pool (MaxPooling2D)  (None, 56, 56, 128)       0         \n",
            "                                                                 \n",
            " block3_conv1 (Conv2D)       (None, 56, 56, 256)       295168    \n",
            "                                                                 \n",
            " block3_conv2 (Conv2D)       (None, 56, 56, 256)       590080    \n",
            "                                                                 \n",
            " block3_conv3 (Conv2D)       (None, 56, 56, 256)       590080    \n",
            "                                                                 \n",
            " block3_pool (MaxPooling2D)  (None, 28, 28, 256)       0         \n",
            "                                                                 \n",
            " block4_conv1 (Conv2D)       (None, 28, 28, 512)       1180160   \n",
            "                                                                 \n",
            " block4_conv2 (Conv2D)       (None, 28, 28, 512)       2359808   \n",
            "                                                                 \n",
            " block4_conv3 (Conv2D)       (None, 28, 28, 512)       2359808   \n",
            "                                                                 \n",
            " block4_pool (MaxPooling2D)  (None, 14, 14, 512)       0         \n",
            "                                                                 \n",
            " block5_conv1 (Conv2D)       (None, 14, 14, 512)       2359808   \n",
            "                                                                 \n",
            " block5_conv2 (Conv2D)       (None, 14, 14, 512)       2359808   \n",
            "                                                                 \n",
            " block5_conv3 (Conv2D)       (None, 14, 14, 512)       2359808   \n",
            "                                                                 \n",
            " block5_pool (MaxPooling2D)  (None, 7, 7, 512)         0         \n",
            "                                                                 \n",
            " flatten (Flatten)           (None, 25088)             0         \n",
            "                                                                 \n",
            " dense (Dense)               (None, 100)               2508900   \n",
            "                                                                 \n",
            " dropout (Dropout)           (None, 100)               0         \n",
            "                                                                 \n",
            " dense_1 (Dense)             (None, 50)                5050      \n",
            "                                                                 \n",
            " dropout_1 (Dropout)         (None, 50)                0         \n",
            "                                                                 \n",
            " dense_2 (Dense)             (None, 1)                 51        \n",
            "                                                                 \n",
            "=================================================================\n",
            "Total params: 17,228,689\n",
            "Trainable params: 2,514,001\n",
            "Non-trainable params: 14,714,688\n",
            "_________________________________________________________________\n",
            "None\n"
          ]
        }
      ]
    },
    {
      "cell_type": "code",
      "source": [
        ""
      ],
      "metadata": {
        "id": "KK_izaAd-rvR"
      },
      "id": "KK_izaAd-rvR",
      "execution_count": null,
      "outputs": []
    },
    {
      "cell_type": "code",
      "source": [
        "#样本非常多时 128\n",
        "batch_size = 20\n",
        "train_dir = 'valid'\n",
        "#分批加载数据，每次读取batch_size张图片\n",
        "train_data_gen = image_generator.flow_from_directory(directory=train_dir,batch_size=batch_size,shuffle=True,\n",
        "                          target_size=(im_height,im_width),\n",
        "                          class_mode='sparse')\n",
        "total_train = train_data_gen.n\n",
        "print(total_train)\n",
        "print('---------------------')\n",
        "print(train_data_gen.class_indices) #良性 恶性"
      ],
      "metadata": {
        "colab": {
          "base_uri": "https://localhost:8080/"
        },
        "id": "u76BABAjqcdk",
        "outputId": "a2ec8be3-81d7-471e-9831-dbffecd56709"
      },
      "id": "u76BABAjqcdk",
      "execution_count": 28,
      "outputs": [
        {
          "output_type": "stream",
          "name": "stdout",
          "text": [
            "Found 76 images belonging to 2 classes.\n",
            "76\n",
            "---------------------\n",
            "{'benign': 0, 'malignant': 1}\n"
          ]
        }
      ]
    },
    {
      "cell_type": "markdown",
      "source": [
        "class_mode: “categorical”, “binary”, “sparse”, “input” 或 None 之一。默认：“categorical”。决定返回的标签数组的类型：\n",
        "1、\"categorical\" 将是 2D one-hot 编码标签，\n",
        "2、\"binary\" 将是 1D 二进制标签，“sparse” 将是 1D 整数标签，\n",
        "3、\"input\" 将是与输入图像相同的图像（主要用于自动编码器）。\n",
        "如果为 None，不返回标签（生成器将只产生批量的图像数据，对于 model.predict_generator(), model.evaluate_generator() 等很有用）。请注意，如果 class_mode 为 None，那么数据仍然需要驻留在 directory 的子目录中才能正常工作。\n",
        "————————————————\n",
        "版权声明：本文为CSDN博主「是猪哥不是诸葛」的原创文章，遵循CC 4.0 BY-SA版权协议，转载请附上原文出处链接及本声明。\n",
        "原文链接：https://blog.csdn.net/my_name_is_learn/article/details/109536273"
      ],
      "metadata": {
        "id": "bU8LUysVs8WX"
      },
      "id": "bU8LUysVs8WX"
    },
    {
      "cell_type": "code",
      "source": [
        "#加载图像次数\n",
        "steps_per_epoch = (total_train / batch_size)"
      ],
      "metadata": {
        "id": "wmH5H8w_tyPY"
      },
      "id": "wmH5H8w_tyPY",
      "execution_count": 29,
      "outputs": []
    },
    {
      "cell_type": "code",
      "source": [
        "#训练模型\n",
        "tuneModel.compile(loss='binary_crossentropy',optimizer='adam',metrics=['accuracy'])\n",
        "#class_weight 使模型更加注重恶性 （样本不均衡的时候恶性数据少，应增大权重，这里模拟样本不均衡 良性样本看一遍，恶性样本看二十遍\n",
        "tuneModel.fit_generator(train_data_gen,epochs=20,steps_per_epoch=steps_per_epoch,class_weight={1:1.0, 0:20.0})\n",
        "tuneModel.save('cancer_model.h5')"
      ],
      "metadata": {
        "colab": {
          "base_uri": "https://localhost:8080/"
        },
        "id": "GpCF1MTyuFdz",
        "outputId": "05cc9a98-1051-45fa-877b-c35f812a690c"
      },
      "id": "GpCF1MTyuFdz",
      "execution_count": 30,
      "outputs": [
        {
          "output_type": "stream",
          "name": "stderr",
          "text": [
            "/usr/local/lib/python3.7/dist-packages/ipykernel_launcher.py:4: UserWarning: `Model.fit_generator` is deprecated and will be removed in a future version. Please use `Model.fit`, which supports generators.\n",
            "  after removing the cwd from sys.path.\n"
          ]
        },
        {
          "output_type": "stream",
          "name": "stdout",
          "text": [
            "Epoch 1/20\n",
            "3/3 [==============================] - 30s 3s/step - loss: 6.4816 - accuracy: 0.5132\n",
            "Epoch 2/20\n",
            "3/3 [==============================] - 1s 234ms/step - loss: 3.5042 - accuracy: 0.5263\n",
            "Epoch 3/20\n",
            "3/3 [==============================] - 1s 233ms/step - loss: 3.1766 - accuracy: 0.6842\n",
            "Epoch 4/20\n",
            "3/3 [==============================] - 1s 236ms/step - loss: 0.5917 - accuracy: 0.8421\n",
            "Epoch 5/20\n",
            "3/3 [==============================] - 1s 236ms/step - loss: 0.6178 - accuracy: 0.8816\n",
            "Epoch 6/20\n",
            "3/3 [==============================] - 1s 266ms/step - loss: 0.3114 - accuracy: 0.9079\n",
            "Epoch 7/20\n",
            "3/3 [==============================] - 1s 239ms/step - loss: 0.3719 - accuracy: 0.9079\n",
            "Epoch 8/20\n",
            "3/3 [==============================] - 1s 235ms/step - loss: 0.3465 - accuracy: 0.9079\n",
            "Epoch 9/20\n",
            "3/3 [==============================] - 1s 233ms/step - loss: 0.1818 - accuracy: 0.9474\n",
            "Epoch 10/20\n",
            "3/3 [==============================] - 1s 234ms/step - loss: 0.3168 - accuracy: 0.9474\n",
            "Epoch 11/20\n",
            "3/3 [==============================] - 1s 267ms/step - loss: 0.2044 - accuracy: 0.9474\n",
            "Epoch 12/20\n",
            "3/3 [==============================] - 1s 234ms/step - loss: 0.2011 - accuracy: 0.9605\n",
            "Epoch 13/20\n",
            "3/3 [==============================] - 1s 235ms/step - loss: 0.1005 - accuracy: 0.9342\n",
            "Epoch 14/20\n",
            "3/3 [==============================] - 1s 235ms/step - loss: 0.3377 - accuracy: 0.9474\n",
            "Epoch 15/20\n",
            "3/3 [==============================] - 1s 265ms/step - loss: 0.2060 - accuracy: 0.9737\n",
            "Epoch 16/20\n",
            "3/3 [==============================] - 1s 237ms/step - loss: 0.1818 - accuracy: 0.9474\n",
            "Epoch 17/20\n",
            "3/3 [==============================] - 1s 235ms/step - loss: 0.1006 - accuracy: 0.9605\n",
            "Epoch 18/20\n",
            "3/3 [==============================] - 1s 236ms/step - loss: 0.0941 - accuracy: 0.9737\n",
            "Epoch 19/20\n",
            "3/3 [==============================] - 1s 265ms/step - loss: 0.0372 - accuracy: 1.0000\n",
            "Epoch 20/20\n",
            "3/3 [==============================] - 1s 236ms/step - loss: 0.0917 - accuracy: 0.9605\n"
          ]
        }
      ]
    },
    {
      "cell_type": "code",
      "source": [
        "type(train_data_gen[0])"
      ],
      "metadata": {
        "colab": {
          "base_uri": "https://localhost:8080/"
        },
        "id": "RJyd-SOfvdH2",
        "outputId": "b170a927-8bad-493c-a2c3-e4432c0a0fb9"
      },
      "id": "RJyd-SOfvdH2",
      "execution_count": 32,
      "outputs": [
        {
          "output_type": "execute_result",
          "data": {
            "text/plain": [
              "tuple"
            ]
          },
          "metadata": {},
          "execution_count": 32
        }
      ]
    },
    {
      "cell_type": "code",
      "source": [
        "type(train_data_gen[0][0])"
      ],
      "metadata": {
        "colab": {
          "base_uri": "https://localhost:8080/"
        },
        "id": "N37PZO3D1bdR",
        "outputId": "e29294cd-4661-4305-d85d-93d898889939"
      },
      "id": "N37PZO3D1bdR",
      "execution_count": 34,
      "outputs": [
        {
          "output_type": "execute_result",
          "data": {
            "text/plain": [
              "numpy.ndarray"
            ]
          },
          "metadata": {},
          "execution_count": 34
        }
      ]
    },
    {
      "cell_type": "code",
      "source": [
        "train_data_gen[0][0].shape  #三通道"
      ],
      "metadata": {
        "colab": {
          "base_uri": "https://localhost:8080/"
        },
        "id": "Fq0Wg8Dq2FM2",
        "outputId": "7469acd6-d32f-44bd-8996-eaf5e77dbbd9"
      },
      "id": "Fq0Wg8Dq2FM2",
      "execution_count": 35,
      "outputs": [
        {
          "output_type": "execute_result",
          "data": {
            "text/plain": [
              "(20, 224, 224, 3)"
            ]
          },
          "metadata": {},
          "execution_count": 35
        }
      ]
    },
    {
      "cell_type": "code",
      "source": [
        "test_data = image_generator.flow_from_directory(directory=train_dir,batch_size=36,shuffle=True,\n",
        "                          target_size=(im_height,im_width),\n",
        "                          class_mode='sparse')\n",
        "count = 0\n",
        "result = []\n",
        "threshold = 0.9  #阈值\n",
        "for s in test_data:\n",
        "  count += 1\n",
        "  #将元组拆包\n",
        "  img, label = s\n",
        "  #模型输出的概率 是二维数组\n",
        "  pred_y = tuneModel.predict(img).tolist()[0][0]\n",
        "  #根据概率和阈值确定最终类别\n",
        "  pred_y=1 if pred_y>threshold else 0\n",
        "  label = label.tolist()[0]\n",
        "  result.append([pred_y,label])\n",
        "  if count >= test_data.n:\n",
        "    break\n",
        "acc0,recall0 = cal_recall_right(result,0)\n",
        "acc1,recall1 = cal_recall_right(result,1)\n",
        "print(test_data.class_indices)\n",
        "print('----------------------')\n",
        "print('良性','准确率：{}'.format(acc1),'召回率：{}'.format(recall1))\n",
        "print('恶性','准确率：{}'.format(acc0),'召回率：{}'.format(recall0))"
      ],
      "metadata": {
        "colab": {
          "base_uri": "https://localhost:8080/"
        },
        "id": "lNXZ_sWh2dvc",
        "outputId": "3aea0c34-6b83-4bfe-93bb-28180d7c4970"
      },
      "id": "lNXZ_sWh2dvc",
      "execution_count": 47,
      "outputs": [
        {
          "output_type": "stream",
          "name": "stdout",
          "text": [
            "Found 76 images belonging to 2 classes.\n",
            "{'benign': 0, 'malignant': 1}\n",
            "----------------------\n",
            "良性 准确率：1.0 召回率：0.9736842105263158\n",
            "恶性 准确率：0.9743589743589743 召回率：1.0\n"
          ]
        }
      ]
    },
    {
      "cell_type": "code",
      "source": [
        "label"
      ],
      "metadata": {
        "colab": {
          "base_uri": "https://localhost:8080/"
        },
        "id": "BIgtGwwT2snY",
        "outputId": "7066aa99-56b4-486c-833b-ee28701496fb"
      },
      "id": "BIgtGwwT2snY",
      "execution_count": 48,
      "outputs": [
        {
          "output_type": "execute_result",
          "data": {
            "text/plain": [
              "0.0"
            ]
          },
          "metadata": {},
          "execution_count": 48
        }
      ]
    },
    {
      "cell_type": "code",
      "source": [
        "s[0].shape,s[1].shape\n",
        "#36张图像，224*224;  36个标签"
      ],
      "metadata": {
        "colab": {
          "base_uri": "https://localhost:8080/"
        },
        "id": "bgrqQQRm9awv",
        "outputId": "6b369323-ffd9-40b5-d825-81da4f4414d9"
      },
      "id": "bgrqQQRm9awv",
      "execution_count": 50,
      "outputs": [
        {
          "output_type": "execute_result",
          "data": {
            "text/plain": [
              "((36, 224, 224, 3), (36,))"
            ]
          },
          "metadata": {},
          "execution_count": 50
        }
      ]
    },
    {
      "cell_type": "code",
      "source": [
        "y = tuneModel.predict(img)\n",
        "y.shape #36个测试样本的预测值，二维数组"
      ],
      "metadata": {
        "colab": {
          "base_uri": "https://localhost:8080/"
        },
        "id": "v356sc-09goB",
        "outputId": "05dbbf58-8b8b-4072-f444-a34b88fa21e2"
      },
      "id": "v356sc-09goB",
      "execution_count": 53,
      "outputs": [
        {
          "output_type": "execute_result",
          "data": {
            "text/plain": [
              "(36, 1)"
            ]
          },
          "metadata": {},
          "execution_count": 53
        }
      ]
    },
    {
      "cell_type": "code",
      "source": [
        ""
      ],
      "metadata": {
        "id": "FdA1gqEI9u_r"
      },
      "id": "FdA1gqEI9u_r",
      "execution_count": null,
      "outputs": []
    }
  ],
  "metadata": {
    "kernelspec": {
      "display_name": "Python 3",
      "name": "python3"
    },
    "toc": {
      "base_numbering": 1,
      "nav_menu": {},
      "number_sections": true,
      "sideBar": true,
      "skip_h1_title": false,
      "title_cell": "Table of Contents",
      "title_sidebar": "Contents",
      "toc_cell": false,
      "toc_position": {},
      "toc_section_display": true,
      "toc_window_display": false
    },
    "colab": {
      "name": "keras_乳腺癌识别.ipynb",
      "provenance": [],
      "collapsed_sections": [],
      "include_colab_link": true
    },
    "language_info": {
      "name": "python"
    },
    "accelerator": "GPU"
  },
  "nbformat": 4,
  "nbformat_minor": 5
}